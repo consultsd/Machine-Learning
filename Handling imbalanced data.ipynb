{
 "cells": [
  {
   "cell_type": "code",
   "execution_count": 3,
   "metadata": {
    "collapsed": false
   },
   "outputs": [],
   "source": [
    "from sklearn import datasets\n",
    "from sklearn.svm import LinearSVC\n",
    "from sklearn.model_selection import train_test_split\n",
    "\n",
    "from imblearn import over_sampling as os\n",
    "from imblearn import combine,ensemble\n",
    "from imblearn import under_sampling as us\n",
    "from imblearn.metrics import classification_report_imbalanced\n",
    "\n",
    "import numpy as np"
   ]
  },
  {
   "cell_type": "code",
   "execution_count": 4,
   "metadata": {
    "collapsed": false
   },
   "outputs": [
    {
     "name": "stdout",
     "output_type": "stream",
     "text": [
      "[[   0  377]\n",
      " [   1 3373]]\n"
     ]
    }
   ],
   "source": [
    "RANDOM_STATE = 42\n",
    "\n",
    "# Generate a dataset\n",
    "X, y = datasets.make_classification(n_classes=2, class_sep=2,\n",
    "                                    weights=[0.1, 0.9], n_informative=10,\n",
    "                                    n_redundant=1, flip_y=0, n_features=20,\n",
    "                                    n_clusters_per_class=4, n_samples=5000,\n",
    "                                    random_state=RANDOM_STATE)\n",
    "\n",
    "# Split the data\n",
    "X_train, X_test, y_train, y_test = train_test_split(X, y,\n",
    "                                                    random_state=RANDOM_STATE)\n",
    "unique, counts = np.unique(y_train, return_counts=True)\n",
    "\n",
    "print np.asarray((unique, counts)).T"
   ]
  },
  {
   "cell_type": "code",
   "execution_count": 5,
   "metadata": {
    "collapsed": true
   },
   "outputs": [],
   "source": [
    "#Over Sampling methods\n",
    "smote = os.SMOTE(random_state=RANDOM_STATE)  #This object is an implementation of SMOTE - Synthetic Minority Over-sampling \n",
    "                                             # Technique,and the variants Borderline SMOTE 1, 2 and SVM-SMOTE\n",
    "smote = os.ADASYN(random_state=RANDOM_STATE)  #Adaptive Synthetic Sampling Approach for Imbalanced Learning.\n",
    "smote = os.RandomOverSampler(random_state=RANDOM_STATE)  #Random Over sampling\n",
    "\n",
    "#Under Sampling methods\n",
    "smote = us.ClusterCentroids() #generating centroids based on clustering methods\n",
    "smote = us.CondensedNearestNeighbour() #under-sampling based on the condensed nearest neighbour method\n",
    "smote = us.EditedNearestNeighbours() # under-sampling based on the edited nearest neighbour method.\n",
    "smote = us.RepeatedEditedNearestNeighbours() #under-sampling based on the repeated edited nearest neighbour method.\n",
    "smote = us.AllKNN()   # under-sampling based on the AllKNN method\n",
    "smote = us.InstanceHardnessThreshold()    #under-sampling based on the instance hardness threshold.\n",
    "smote = us.NearMiss(version=2, random_state=RANDOM_STATE)    #under-sampling based on NearMiss methods\n",
    "smote = us.NeighbourhoodCleaningRule()   #under-sampling based on the neighbourhood cleaning rule\n",
    "smote = us.OneSidedSelection()  #under-sampling based on one-sided selection method\n",
    "smote = us.RandomUnderSampler() #Under-sample the majority class(es) by randomly picking samples with or without replacement\n",
    "smote = us.TomekLinks() #under-sampling by removing Tomek’s links\n",
    "\n",
    "#Over and Under Sampling\n",
    "smote = combine.SMOTEENN()   #over- and under-sampling using SMOTE and Edited Nearest Neighbours\n",
    "smote = combine.SMOTETomek()  #Combine over- and under-sampling using SMOTE and Tomek links\n",
    "\n",
    "#Ensemble models\n",
    "smote = ensemble.BalanceCascade()  #iterative undersampling\n",
    "smote = ensemble.EasyEnsemble()  #iterative random undersampling"
   ]
  },
  {
   "cell_type": "code",
   "execution_count": 6,
   "metadata": {
    "collapsed": false
   },
   "outputs": [
    {
     "name": "stdout",
     "output_type": "stream",
     "text": [
      "[[   0 3770]\n",
      " [   1 3770]]\n"
     ]
    }
   ],
   "source": [
    "# Sample the data with smote\n",
    "X_balanced,Y_balanced = smote.fit_sample(X_train, y_train)\n",
    "\n",
    "unique, counts = np.unique(Y_balanced, return_counts=True)\n",
    "\n",
    "print np.asarray((unique, counts)).T"
   ]
  },
  {
   "cell_type": "code",
   "execution_count": null,
   "metadata": {
    "collapsed": true
   },
   "outputs": [],
   "source": []
  }
 ],
 "metadata": {
  "kernelspec": {
   "display_name": "Python 2",
   "language": "python",
   "name": "python2"
  },
  "language_info": {
   "codemirror_mode": {
    "name": "ipython",
    "version": 2
   },
   "file_extension": ".py",
   "mimetype": "text/x-python",
   "name": "python",
   "nbconvert_exporter": "python",
   "pygments_lexer": "ipython2",
   "version": "2.7.13"
  }
 },
 "nbformat": 4,
 "nbformat_minor": 0
}
